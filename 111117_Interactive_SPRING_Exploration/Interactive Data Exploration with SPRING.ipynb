{
 "cells": [
  {
   "cell_type": "markdown",
   "metadata": {},
   "source": [
    "# Interactive Data Exploration with SPRING"
   ]
  },
  {
   "cell_type": "markdown",
   "metadata": {},
   "source": [
    "<table style=\"width:100%\">\n",
    "  <tr>\n",
    "    <th>Gene_Exploration</th>\n",
    "    <th>Cluster_Visualization</th> \n",
    "    <th>Pseudotime</th>\n",
    "  </tr>\n",
    "  <tr>\n",
    "    <td><img src=\"Krumsiek_Gene.png\", height=\"420\" width=\"680\"> </td>\n",
    "    <td><img src=\"Krumiek_Clusters.png\" , height=\"420\" width=\"680\"> </td>\n",
    "    <td><img src=\"Krumsiek_Pseudotime.png\", height=\"420\" width=\"680\" > </td>\n",
    "  </tr>\n",
    "</table>\n",
    "\n"
   ]
  },
  {
   "cell_type": "markdown",
   "metadata": {},
   "source": [
    "This notebook shows how to interactively explore data in SPRING and explores results of the Krumsiek and the Seurat data sets. SPRING is an interactive, browser-based visualization tool designed for single-cell RNA-analysis that uses force directed methods to visualize high-dimensional data in 3D. \n",
    "\n",
    "The Scanpy SPRING export function supports tracking of differential gene expression for genes - especially marker genes, categorical colorings for e.g. clustering of the data and individual color tracks for e.g. visualization and exploration of Diffusion Pseudotime results. \n",
    "\n",
    "\n",
    "\n"
   ]
  },
  {
   "cell_type": "markdown",
   "metadata": {},
   "source": [
    "## SPRING setup & Prerequesites"
   ]
  },
  {
   "cell_type": "markdown",
   "metadata": {},
   "source": [
    "We use the tool programmed by the Allon-Klein Lab that can be found here:\n",
    "\n",
    "https://github.com/AllonKleinLab/SPRING\n",
    "\n",
    "Clone the repository to your preferred destination folder. It is recommendable that the folder is easily accessible. \n",
    "\n",
    "Make sure that http.server (Python 3) is installed (SimpleHTTPServer is outdated and Scanpy requires version 3.5 or higher anyway).\n",
    "\n",
    "    pip install http.server   \n",
    "\n"
   ]
  },
  {
   "cell_type": "markdown",
   "metadata": {},
   "source": [
    "## Using the export function in Scanpy"
   ]
  },
  {
   "cell_type": "markdown",
   "metadata": {},
   "source": [
    "The SPRING Tool requires a number of CSV and JSON files to be written in a folder structure. The basic export is done by calling \n",
    "\n",
    "    save_spring_dir(adata,project_directory,k=30, D=None, custom_color_tracks=None, cell_groupings=None, use_genes=[])\n",
    "    \n",
    "    \n",
    "after calling: \n",
    "\n",
    "    from scanpy.exporting import save_spring_dir\n",
    "\n",
    "\n",
    "__adata__ is an AnnData object\n",
    "\n",
    "__project_directory__ defines the destination folder of the written files (relative to the current postion of the program calling the function)\n",
    "\n",
    "__k__ defines the k for which a k-nearest-neighbour graph will be built that is used to visualize data. \n",
    "\n",
    "__D__ is an optional parameter that can contain a different distance matrix. If used, it should be a $n\\times n$ matrix, where $n$ is the number of cells in the AnnData object\n",
    "\n",
    "__custom_color_tracks__ and __cell_groupings__ are optional parameters that contain either a string or a list of strings that are used to access adata annotation for the custom color_tracks or, respectively, categorical coloring. \n",
    "\n",
    "__use_genes__ is an optional parameter that contains a list of genes used for coloring. If empty, all genes are used. Eleswise, gene names should be consistent with those in adata.var_names"
   ]
  },
  {
   "cell_type": "markdown",
   "metadata": {
    "collapsed": true
   },
   "source": [
    "## Calling SPRING and exploring the results"
   ]
  },
  {
   "cell_type": "markdown",
   "metadata": {},
   "source": [
    "After writing all necessary files using \n",
    "\n",
    "    save_spring_dir()\n",
    "    \n",
    "call (in bash or comparable) \n",
    "    \n",
    "    python3 -m http.server 8000 &\n",
    "\n",
    "This opens a local virtual server that is necessary for SPRING to work. No, in a browser, open \n",
    "\n",
    "    http://localhost:8000/<Path_To_SPRING>/springViewer.html?<RelativePath_To_ProjectDirectory>\n",
    "\n",
    "so e.g.:\n",
    "\n",
    "    http://localhost:8000/SPRING/springViewer.html?../scanpy/krumsiek\n",
    "\n",
    "The first path is the one relative to the 'server postion', i.e. relative to the folder in which the http.server was opened. \n",
    "\n",
    "The second path is relative to the SPRING directory. Therefore, storing project_directory close to or in SPRING simplifies matters. \n",
    "\n",
    "Now the simulation should start. For large datasets it may need a few minutes until all genes are loaded and the simulation has reached an equilibrium. \n",
    "\n",
    "For an explanation of SPRING, see \n",
    "\n",
    "https://github.com/AllonKleinLab/SPRING\n",
    "\n",
    "or see the HELP! Page in SPRING."
   ]
  },
  {
   "cell_type": "markdown",
   "metadata": {},
   "source": [
    "## Example Case: Krumsiek Data set\n"
   ]
  },
  {
   "cell_type": "code",
   "execution_count": 2,
   "metadata": {},
   "outputs": [],
   "source": [
    "from scanpy.exporting import save_spring_dir\n",
    "import scanpy.api as sc\n",
    "import numpy as np\n",
    "sc.settings.verbosity = 3                # verbosity = 3: errors, warnings, info, hints\n",
    "sc.settings.set_figure_params(dpi=80)    # dots (pixels) per inch determine size of inline figures"
   ]
  },
  {
   "cell_type": "code",
   "execution_count": 3,
   "metadata": {},
   "outputs": [
    {
     "name": "stdout",
     "output_type": "stream",
     "text": [
      "--> you can reproduce the data file /home/tobias/Documents/scanpy/scanpy/datasets/krumsiek11.txt by running `sc.tl.sim(\"krumsiek11\")`\n",
      "reading ./write/data/home/tobias/Documents/scanpy/scanpy/datasets/krumsiek11.h5\n"
     ]
    }
   ],
   "source": [
    "adata_krumsiek11 = sc.datasets.krumsiek11()"
   ]
  },
  {
   "cell_type": "code",
   "execution_count": 4,
   "metadata": {},
   "outputs": [
    {
     "name": "stdout",
     "output_type": "stream",
     "text": [
      "drawing single-cell graph using layout \"fr\"\n",
      "    using data matrix X directly for building graph (no PCA)\n",
      "    computing data graph with n_neighbors = 30 \n",
      "    computing spectral decomposition (\"diffmap\") with 15 components\n",
      "    eigenvalues of transition matrix\n",
      "    [ 1.            0.998418808   0.9969582558  0.9920811653  0.9909049273\n",
      "      0.9824624062  0.9651805162  0.9614249468  0.9520583153  0.9385528564\n",
      "      0.9172899127  0.9089726806  0.8958978653  0.8761963248  0.8536654115]\n",
      "    finished (0:00:04.025) and added\n",
      "    \"X_draw_graph_fr\", graph_drawing coordinates (adata.smp)\n",
      "    \"draw_graph_layout\", the chosen layout (adata.add)\n",
      "running Louvain clustering\n",
      "    using data matrix X directly for building graph (no PCA)\n",
      "    computing data graph with n_neighbors = 10 \n",
      "    computing spectral decomposition (\"diffmap\") with 15 components\n",
      "    eigenvalues of transition matrix\n",
      "    [ 1.            0.9997081757  0.9995225072  0.9988661408  0.9987463355\n",
      "      0.9967362285  0.9950016141  0.9936144352  0.9919355512  0.9894726872\n",
      "      0.9880274534  0.9844530225  0.980974257   0.979559958   0.9742478132]\n",
      "    using the \"louvain\" package of Traag (2017)\n",
      "WARNING: Did not find package louvain>=0.6, the clustering result will therefore not be 100% reproducible, but still meaningful! If you want 100% reproducible results, but louvain 0.6 is not yet available via \"pip install louvain\", either get the latest (development) version from https://github.com/vtraag/louvain-igraph or use the option `flavor=igraph` in sc.tl.louvain(). The latter does not provide a `resolution` parameter, though.\n",
      "    finished (0:00:00.296) and found 20 clusters, added\n",
      "    \"louvain_groups\", the cluster labels (adata.smp)\n",
      "    \"louvain_groups_order\", the unique cluster labels (adata.add)\n"
     ]
    }
   ],
   "source": [
    "sc.tl.draw_graph(adata_krumsiek11)\n",
    "sc.tl.louvain(adata_krumsiek11, n_neighbors=10, resolution=1.3, recompute_graph=True)"
   ]
  },
  {
   "cell_type": "code",
   "execution_count": 5,
   "metadata": {},
   "outputs": [
    {
     "name": "stdout",
     "output_type": "stream",
     "text": [
      "perform Diffusion Pseudotime analysis\n",
      "    using data matrix X directly for building graph (no PCA)\n",
      "    computing data graph with n_neighbors = 5 \n",
      "    computing spectral decomposition (\"diffmap\") with 10 components\n",
      "    eigenvalues of transition matrix\n",
      "    [ 1.            0.9999370575  0.9999125004  0.9998248816  0.9997677207\n",
      "      0.9993129373  0.9989748001  0.9986641407  0.9982346892  0.9980639219]\n",
      "    this uses a hierarchical implementation\n",
      "    detect 2 branchings\n",
      "    do not consider groups with less than 6 points for splitting\n",
      "    branching 1: split group 0\n",
      "    branching 2: split group 0\n",
      "finished (0:00:00.531) and added\n",
      "    \"dpt_pseudotime\", the pseudotime (adata.smp),\n",
      "    \"dpt_groups\", the branching subgroups of dpt (adata.smp)\n",
      "    \"dpt_order\", order according to groups and increasing pseudtime (adata.smp)\n"
     ]
    }
   ],
   "source": [
    "adata_krumsiek11.add['iroot'] = 0\n",
    "sc.tl.dpt(adata_krumsiek11, n_branchings=2, n_neighbors=5, knn=False)"
   ]
  },
  {
   "cell_type": "markdown",
   "metadata": {},
   "source": [
    "The draw_graph function in scanpy uses the same algorithm as SPRING. Results are comparable, but Python visualization is not interactive."
   ]
  },
  {
   "cell_type": "code",
   "execution_count": 6,
   "metadata": {},
   "outputs": [
    {
     "data": {
      "image/png": "[encoded data removed]",
      "text/plain": [
       "<matplotlib.figure.Figure at 0x7fa09c8b7e80>"
      ]
     },
     "metadata": {
      "image/png": {
       "height": 318,
       "width": 324
      }
     },
     "output_type": "display_data"
    }
   ],
   "source": [
    "ax = sc.pl.draw_graph(adata_krumsiek11, color='dpt_groups', title='simulated data: DPT groups')"
   ]
  },
  {
   "cell_type": "code",
   "execution_count": 7,
   "metadata": {},
   "outputs": [
    {
     "name": "stdout",
     "output_type": "stream",
     "text": [
      "/home/tobias\n"
     ]
    }
   ],
   "source": [
    "cd"
   ]
  },
  {
   "cell_type": "code",
   "execution_count": 8,
   "metadata": {},
   "outputs": [
    {
     "name": "stdout",
     "output_type": "stream",
     "text": [
      "    using data matrix X directly for building graph (no PCA)\n",
      "    computing data graph with n_neighbors = 30 \n",
      "    computing spectral decomposition (\"diffmap\") with 15 components\n",
      "    eigenvalues of transition matrix\n",
      "    [ 1.            0.998418808   0.9969582558  0.9920811653  0.9909049273\n",
      "      0.9824624062  0.9651805162  0.9614249468  0.9520583153  0.9385528564\n",
      "      0.9172899127  0.9089726806  0.8958978653  0.8761963248  0.8536654115]\n"
     ]
    }
   ],
   "source": [
    "save_spring_dir(adata_krumsiek11,'./Documents/scanpy/krumsiek', cell_groupings='dpt_groups', custom_color_tracks='dpt_pseudotime')"
   ]
  },
  {
   "cell_type": "markdown",
   "metadata": {},
   "source": [
    "A visualization of the dataset can be seen at the top. On the left hand side  "
   ]
  },
  {
   "cell_type": "markdown",
   "metadata": {},
   "source": [
    "## A note on including categorical data and color tracks: "
   ]
  },
  {
   "cell_type": "markdown",
   "metadata": {},
   "source": [
    "In order to include color_tracks such as for diffusion pseudotime, adata.smp[__custom_color_tracks__] needs to exist for all keys (if a list, for all list elements)."
   ]
  },
  {
   "cell_type": "markdown",
   "metadata": {},
   "source": [
    "In order to include categorical data, the following annotation needs to exist for __cell_grouping__ (each element if a list): \n",
    "\n",
    "Group key for each cell:\n",
    "\n",
    "    adata.smp[cell_groupings] \n",
    "List of all group keys:\n",
    "\n",
    "    adata.add[cell_groupings+'order']\n",
    "Colors for each group key:\n",
    "\n",
    "    adata.add[cell_groupings+'colors]\n",
    "\n",
    "In the example above, calling save_spring_dir with __cell_groupings__='louvain_groups' would return an error, since color annotation has not yet been included. In order to include color annotation, call the respective plotting method that corresponds to the cell grouping key. E.g.:\n",
    "\n",
    "    sc.tl.tsne(adata_krumsiek11)\n",
    "    sx=sc.pl.louvain(adata_krumsiek)\n",
    "    \n",
    "adds color annotation, now the export works as required. However, in this use case, louvain clustering does not yield good results, so the python execution was omitted. \n",
    "    \n",
    "\n",
    " "
   ]
  },
  {
   "cell_type": "markdown",
   "metadata": {},
   "source": [
    "## Another example case: Seurat Data Set "
   ]
  },
  {
   "cell_type": "code",
   "execution_count": null,
   "metadata": {
    "collapsed": true
   },
   "outputs": [],
   "source": [
    "Analogously to the "
   ]
  }
 ],
 "metadata": {
  "kernelspec": {
   "display_name": "Python 3",
   "language": "python",
   "name": "python3"
  },
  "language_info": {
   "codemirror_mode": {
    "name": "ipython",
    "version": 3
   },
   "file_extension": ".py",
   "mimetype": "text/x-python",
   "name": "python",
   "nbconvert_exporter": "python",
   "pygments_lexer": "ipython3",
   "version": "3.6.3"
  }
 },
 "nbformat": 4,
 "nbformat_minor": 2
}
