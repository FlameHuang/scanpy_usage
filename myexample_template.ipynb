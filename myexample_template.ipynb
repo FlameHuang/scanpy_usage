{
 "cells": [
  {
   "cell_type": "markdown",
   "metadata": {},
   "source": [
    "# My example"
   ]
  },
  {
   "cell_type": "markdown",
   "metadata": {},
   "source": [
    "My example."
   ]
  },
  {
   "cell_type": "code",
   "execution_count": null,
   "metadata": {
    "collapsed": false
   },
   "outputs": [],
   "source": [
    "%config InlineBackend.figure_formats = ['retina']  # increase resolution on retina screens\n",
    "import numpy as np\n",
    "import scanpy as sc\n",
    "\n",
    "sc.sett.verbosity = 3                # show some output\n",
    "sc.sett.set_dpi(80)                  # low pixel number yields small inline figures\n",
    "sc.sett.file_format_figures = 'png'  # set this to 'svg' (notebook) or 'pdf' (files) if you want vector graphics\n",
    "sc.sett.savefigs = False             # set to True if you want to save figures to `./figs/`\n",
    "print('Running Scanpy version', sc.__version__, 'on', sc.logging.get_date())"
   ]
  },
  {
   "cell_type": "code",
   "execution_count": null,
   "metadata": {
    "collapsed": false
   },
   "outputs": [],
   "source": [
    "# get help                                                                                                                                                                       \n",
    "# help(sc.read)                                                                                                                                                                  \n",
    "\n",
    "# read data from any path on your system                                                                                                                                         \n",
    "path_to_data = 'data/myexample/'\n",
    "adata = sc.read(path_to_data + 'myexample.csv')\n",
    "\n",
    "# other data reading examples                                                                                                                                                    \n",
    "# adata = sc.read(path_to_data + 'myexample.csv', first_column_names=True)                                                                                                       \n",
    "# adata = sc.read(path_to_data + 'myexample.h5', sheet='countmatrix')                                                                                                            \n",
    "# adata = sc.read(path_to_data + 'myexample.xlsx', sheet='countmatrix')                                                                                                          \n",
    "# adata = sc.read(path_to_data + 'myexample.txt', sheet='countmatrix')                                                                                                           \n",
    "# adata = sc.read(path_to_data + 'myexample.txt.gz', sheet='countmatrix')                                                                                                        \n",
    "# adata = sc.read(path_to_data + 'myexample.soft.gz', sheet='countmatrix')                                                                                                       \n",
    "\n",
    "# in the data matrix adata.X, rows should correspond to samples and columns to genes                                                                                                             \n",
    "# to match this convention, transpose your data if necessary                                                                                                                     \n",
    "# adata = adata.transpose()\n",
    "\n",
    "# get groupnames (as strings)   \n",
    "adata.smp['mygroups'] = np.loadtxt(path_to_data + 'mygroups.csv', dtype='S')\n",
    "\n",
    "# specify root cell                                                                                                                                                              \n",
    "ddata['xroot'] = ddata['X'][336]"
   ]
  },
  {
   "cell_type": "code",
   "execution_count": null,
   "metadata": {
    "collapsed": false
   },
   "outputs": [],
   "source": [
    "sc.tl.dpt(adata, nr_branchings=1)\n",
    "sc.pl.dpt(adata, layout='3d', legendloc='upper left')"
   ]
  }
 ],
 "metadata": {
  "anaconda-cloud": {},
  "kernelspec": {
   "display_name": "Python [conda env:py27]",
   "language": "python",
   "name": "conda-env-py27-py"
  },
  "language_info": {
   "codemirror_mode": {
    "name": "ipython",
    "version": 2
   },
   "file_extension": ".py",
   "mimetype": "text/x-python",
   "name": "python",
   "nbconvert_exporter": "python",
   "pygments_lexer": "ipython2",
   "version": "2.7.13"
  }
 },
 "nbformat": 4,
 "nbformat_minor": 2
}
